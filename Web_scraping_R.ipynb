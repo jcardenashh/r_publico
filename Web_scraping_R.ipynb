{
  "nbformat": 4,
  "nbformat_minor": 0,
  "metadata": {
    "colab": {
      "provenance": [],
      "collapsed_sections": [],
      "authorship_tag": "ABX9TyN5Ns+xv3fET1vDfApifzJy",
      "include_colab_link": true
    },
    "kernelspec": {
      "name": "ir",
      "display_name": "R"
    },
    "language_info": {
      "name": "R"
    }
  },
  "cells": [
    {
      "cell_type": "markdown",
      "metadata": {
        "id": "view-in-github",
        "colab_type": "text"
      },
      "source": [
        "<a href=\"https://colab.research.google.com/github/jcardenashh/r_publico/blob/main/Web_scraping_R.ipynb\" target=\"_parent\"><img src=\"https://colab.research.google.com/assets/colab-badge.svg\" alt=\"Open In Colab\"/></a>"
      ]
    },
    {
      "cell_type": "markdown",
      "source": [
        "# Web scraping pagina walmart nicaragua\n"
      ],
      "metadata": {
        "id": "0dWKqYqsGDG7"
      }
    },
    {
      "cell_type": "code",
      "source": [
        "\n",
        "if(!require(rvest)) install.packages(\"rvest\"); library(rvest)\n",
        "if(!require(openxlsx)) install.packages(\"openxlsx\"); library(openxlsx)"
      ],
      "metadata": {
        "id": "hP3lEf_Tzv12"
      },
      "execution_count": 5,
      "outputs": []
    },
    {
      "cell_type": "markdown",
      "source": [
        "## Datos"
      ],
      "metadata": {
        "id": "jGwLCd8puRgc"
      }
    },
    {
      "cell_type": "code",
      "execution_count": 6,
      "metadata": {
        "id": "bpZqnWjt8AH9"
      },
      "outputs": [],
      "source": [
        "rm(list=ls())\n",
        "url_principal=\"https://www.walmart.com.ni\"\n",
        "\n",
        "datos = data.frame(\n",
        "  codigo=character(),\n",
        "  producto=character(), \n",
        "  precio =double(),\n",
        "  precio_promocional= double(),\n",
        "  grupo=character(),\n",
        "  categoria=character(),\n",
        "  subcategoria=character(),\n",
        "  descripcion=character(),\n",
        "  imagen=character(),\n",
        "  url_articulo=character(),\n",
        "  pagina= double(),\n",
        "  articulo=double()\n",
        ")"
      ]
    },
    {
      "cell_type": "markdown",
      "source": [
        "## Grupos"
      ],
      "metadata": {
        "id": "YuSB5geBP1VU"
      }
    },
    {
      "cell_type": "code",
      "source": [
        "# grupos ----\n",
        "web <- read_html(url_principal)\n",
        "css = \".vtex-store-components-3-x-logoLink--iconslidecategory\"\n",
        "grupo = html_elements(web,css) %>% html_attr(\"href\") %>% unique()"
      ],
      "metadata": {
        "colab": {
          "base_uri": "https://localhost:8080/",
          "height": 69
        },
        "id": "KGUNOyA2u30f",
        "outputId": "7a2d03a0-7b36-4a4e-a88a-c3a30fcc5af5"
      },
      "execution_count": 8,
      "outputs": [
        {
          "output_type": "display_data",
          "data": {
            "text/html": [
              "<style>\n",
              ".list-inline {list-style: none; margin:0; padding: 0}\n",
              ".list-inline>li {display: inline-block}\n",
              ".list-inline>li:not(:last-child)::after {content: \"\\00b7\"; padding: 0 .5ex}\n",
              "</style>\n",
              "<ol class=list-inline><li>'/abarrotes'</li><li>'/jugos-y-bebidas'</li><li>'/cervezas-vinos-y-licores'</li><li>'/alimentos-congelados'</li><li>'/panaderia'</li><li>'/lacteos'</li><li>'/embutidos'</li><li>'/frutas-y-verduras'</li><li>'/carnes-y-pescados'</li><li>'/limpieza'</li><li>'/bebés-y-niños'</li><li>'/higiene-y-belleza'</li><li>'/electronica'</li><li>'/articulos-para-el-hogar'</li><li>'/farmacia'</li><li>'/juguetes'</li><li>'/deportes'</li><li>'/panaderia-y-tortilleria'</li><li>'/limpieza-y-mascotas'</li></ol>\n"
            ],
            "text/markdown": "1. '/abarrotes'\n2. '/jugos-y-bebidas'\n3. '/cervezas-vinos-y-licores'\n4. '/alimentos-congelados'\n5. '/panaderia'\n6. '/lacteos'\n7. '/embutidos'\n8. '/frutas-y-verduras'\n9. '/carnes-y-pescados'\n10. '/limpieza'\n11. '/bebés-y-niños'\n12. '/higiene-y-belleza'\n13. '/electronica'\n14. '/articulos-para-el-hogar'\n15. '/farmacia'\n16. '/juguetes'\n17. '/deportes'\n18. '/panaderia-y-tortilleria'\n19. '/limpieza-y-mascotas'\n\n\n",
            "text/latex": "\\begin{enumerate*}\n\\item '/abarrotes'\n\\item '/jugos-y-bebidas'\n\\item '/cervezas-vinos-y-licores'\n\\item '/alimentos-congelados'\n\\item '/panaderia'\n\\item '/lacteos'\n\\item '/embutidos'\n\\item '/frutas-y-verduras'\n\\item '/carnes-y-pescados'\n\\item '/limpieza'\n\\item '/bebés-y-niños'\n\\item '/higiene-y-belleza'\n\\item '/electronica'\n\\item '/articulos-para-el-hogar'\n\\item '/farmacia'\n\\item '/juguetes'\n\\item '/deportes'\n\\item '/panaderia-y-tortilleria'\n\\item '/limpieza-y-mascotas'\n\\end{enumerate*}\n",
            "text/plain": [
              " [1] \"/abarrotes\"                \"/jugos-y-bebidas\"         \n",
              " [3] \"/cervezas-vinos-y-licores\" \"/alimentos-congelados\"    \n",
              " [5] \"/panaderia\"                \"/lacteos\"                 \n",
              " [7] \"/embutidos\"                \"/frutas-y-verduras\"       \n",
              " [9] \"/carnes-y-pescados\"        \"/limpieza\"                \n",
              "[11] \"/bebés-y-niños\"            \"/higiene-y-belleza\"       \n",
              "[13] \"/electronica\"              \"/articulos-para-el-hogar\" \n",
              "[15] \"/farmacia\"                 \"/juguetes\"                \n",
              "[17] \"/deportes\"                 \"/panaderia-y-tortilleria\" \n",
              "[19] \"/limpieza-y-mascotas\"     "
            ]
          },
          "metadata": {}
        }
      ]
    },
    {
      "cell_type": "markdown",
      "source": [
        "## Función de descarga"
      ],
      "metadata": {
        "id": "Lr1eWtVDQpG6"
      }
    },
    {
      "cell_type": "markdown",
      "source": [],
      "metadata": {
        "id": "jRIAIyeDQp_q"
      }
    },
    {
      "cell_type": "code",
      "source": [
        "producto<- function(url,p=1,i=1){\n",
        "    # funcion para descargar los datos de cada producto\n",
        "    # retorna los datos en un data.frame\n",
        "    url <- url\n",
        "    \n",
        "    #url=\"https://www.walmart.com.ni/boquitas-milpa-real-tostadas-360gr/p\"\n",
        "    #url = \"https://www.walmart.com.ni/bicicleta-next-de-nino-12/p\"\n",
        "    #url = \"https://www.walmart.com.ni/bebida-nutri-lety-lactea-1000ml/p\"\n",
        "    \n",
        "    web <- rvest::read_html(URLencode(url))\n",
        "    #codigo ----\n",
        "    css<- \".vtex-product-identifier-0-x-product-identifier__value\"\n",
        "    codigo <-html_elements(web,css) %>% html_text2()\n",
        "    \n",
        "    # producto ----\n",
        "    css=\".vtex-store-components-3-x-productBrand\"\n",
        "    producto <-html_elements(web,css) %>% html_text2()\n",
        "    \n",
        "    # precio----\n",
        "    css=\".vtex-store-components-3-x-sellingPrice\"\n",
        "    precio <- html_element(web,css) %>% html_text2()\n",
        "    precio <- gsub(\"C\\\\$\",\"\",precio) \n",
        "    precio <-gsub(\",\",\"\",precio) %>% as.numeric()\n",
        "    ###\n",
        "    css=\".vtex-store-components-3-x-listPrice\"\n",
        "    precio_promo <- html_element(web,css) %>% html_text2()\n",
        "    precio_promo <- gsub(\"C\\\\$\",\"\",precio_promo)\n",
        "    precio_promo <- gsub(\",\",\"\",precio_promo) %>% as.numeric()\n",
        "    ##imagen ----\n",
        "    selector =\".vtex-store-components-3-x-productImageTag\"\n",
        "    imagen  = html_element(web,selector) %>% html_attr(\"src\")\n",
        "    \n",
        "    # categorias ----\n",
        "    selector =\".vtex-breadcrumb-1-x-arrow--1\"\n",
        "    categoria_g  = html_elements(web,selector) %>% html_text2()\n",
        "    \n",
        "    selector =\".vtex-breadcrumb-1-x-arrow--2\"\n",
        "    categoria  = html_elements(web,selector) %>% html_text2()\n",
        "    \n",
        "    selector =\".vtex-breadcrumb-1-x-arrow--3\"\n",
        "    sub_categoria  = html_elements(web,selector) %>% html_text2()\n",
        "    \n",
        "    # descripcion ----\n",
        "    css =\".vtex-store-components-3-x-content\"\n",
        "    descripcion=html_elements(web,css)[2] %>% html_text() %>% paste0()\n",
        "\n",
        "    data.frame(\n",
        "      codigo = codigo,\n",
        "     producto = producto, \n",
        "     precio = precio,\n",
        "     precio_promocional=precio_promo,\n",
        "     grupo= categoria_g,\n",
        "     categoria=categoria,\n",
        "     subcategoria= sub_categoria,\n",
        "     descripcion=descripcion,\n",
        "     imagen=imagen,\n",
        "     url_articulo=url,\n",
        "     pagina=p,\n",
        "     articulo=i\n",
        "    )\n",
        "    \n",
        "}"
      ],
      "metadata": {
        "id": "3mVeFa_qiOh7"
      },
      "execution_count": null,
      "outputs": []
    },
    {
      "cell_type": "markdown",
      "source": [
        "## Bucle descarga"
      ],
      "metadata": {
        "id": "GOqGfiAdQumz"
      }
    },
    {
      "cell_type": "code",
      "source": [
        "  for (g in 1:length(grupo)){\n",
        "    # descargar los datos \n",
        "    # extraemos los link de cada grupo , y calculamos la cantidad de paginas a recorrer\n",
        "    # extraemos lista de link de los productos de cada pagina\n",
        "    # descargamos los datos recorriendo los link de todos los productos\n",
        "    # agregamos los datos al data frame de datos\n",
        "    \n",
        "    \n",
        "    try({\n",
        "      ######\n",
        "      url= paste0(url_principal,\"/\",grupo[g])\n",
        "      \n",
        "      web <- read_html(URLencode(url))\n",
        "      ### cantidad de paginas\n",
        "      css =\".vtex-search-result-3-x-totalProducts--layout\"\n",
        "      paginas=html_elements(web,css)%>% html_text() \n",
        "      paginas=round(as.numeric(gsub(\"  Productos\",\"\",paginas))/10,digits = 0)+1\n",
        "      \n",
        "      \n",
        "      # links de cada pagina\n",
        "      for (p in 1:paginas){\n",
        "        try({\n",
        "          url <- paste0(url_principal,\"/\",grupo[g],\"?page=\",p)\n",
        "          web <- rvest::read_html(URLencode(url))\n",
        "          \n",
        "          css_selector=\"a.vtex-product-summary-2-x-clearLink\"\n",
        "          links = html_nodes(web,css_selector) %>% html_attr(\"href\")\n",
        "          \n",
        "          # descarga dato producto\n",
        "          for (i in 1:length(links)) {\n",
        "            url <- paste0(url_principal,links[i])\n",
        "            # con la funcion producto\n",
        "            datos=rbind(datos,producto(url=url,p=p,i=i))\n",
        "          }\n",
        "          #Sys.sleep(1)\n",
        "        })\n",
        "      }\n",
        "    })\n",
        "}"
      ],
      "metadata": {
        "id": "xP0Hw65QxdgO"
      },
      "execution_count": null,
      "outputs": []
    },
    {
      "cell_type": "markdown",
      "source": [
        "## Guardar archivo"
      ],
      "metadata": {
        "id": "aVaT0xWAuKQu"
      }
    },
    {
      "cell_type": "code",
      "source": [
        "# guaramos el archivo en formato excel\n",
        "options(spicen=999)\n",
        "write.xlsx(datos, \"productos_walmart_.xlsx\")\n"
      ],
      "metadata": {
        "id": "8Yd2mQ0mx54O"
      },
      "execution_count": 9,
      "outputs": []
    }
  ]
}