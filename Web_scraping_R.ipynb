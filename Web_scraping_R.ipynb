{
  "nbformat": 4,
  "nbformat_minor": 0,
  "metadata": {
    "colab": {
      "provenance": [],
      "collapsed_sections": [],
      "authorship_tag": "ABX9TyPKLcAAVj1lSVPqHpf7gJIB"
    },
    "kernelspec": {
      "name": "ir",
      "display_name": "R"
    },
    "language_info": {
      "name": "R"
    }
  },
  "cells": [
    {
      "cell_type": "markdown",
      "source": [
        "# Web scraping pagina walmart nicaragua\n"
      ],
      "metadata": {
        "id": "0dWKqYqsGDG7"
      }
    },
    {
      "cell_type": "code",
      "source": [
        "#install.packages(\"openxlsx\")\n",
        "library(rvest)\n",
        "library(openxlsx)"
      ],
      "metadata": {
        "id": "hP3lEf_Tzv12"
      },
      "execution_count": null,
      "outputs": []
    },
    {
      "cell_type": "markdown",
      "source": [],
      "metadata": {
        "id": "jGwLCd8puRgc"
      }
    },
    {
      "cell_type": "code",
      "execution_count": null,
      "metadata": {
        "id": "bpZqnWjt8AH9"
      },
      "outputs": [],
      "source": [
        "\n",
        "rm(list=ls())\n",
        "url_principal=\"https://www.walmart.com.ni\"\n",
        "\n",
        "datos = data.frame(codigo=character(),\n",
        "                  producto=character(), \n",
        "                  precio =double(),\n",
        "                  precio_promocional= double(),\n",
        "                  grupo=character(),\n",
        "                  categoria=character(),\n",
        "                  subcategoria=character(),\n",
        "                  descripcion=character(),\n",
        "                  imagen=character(),\n",
        "                  url_articulo=character(),\n",
        "                  pagina= double(),\n",
        "                  articulo=double()\n",
        "                )"
      ]
    },
    {
      "cell_type": "code",
      "source": [
        "## grupos\n",
        "url <- \"https://www.walmart.com.ni/\"\n",
        "web <- read_html(url)\n",
        "# grupos ----\n",
        "css =\".vtex-flex-layout-0-x-flexRow--rowslidecategory\"\n",
        "grupo=html_elements(web,css)%>% html_text()\n",
        "\n",
        "grupo= c(\"abarrotes\",\n",
        "         \"jugos-y-bebidas\",\n",
        "         \"lacteos\",\n",
        "         \"higiene-y-belleza\",\n",
        "         \"limpieza-y-mascotas\",\n",
        "         \"embutidos\",\n",
        "         \"frutas-y-verduras\",\n",
        "         \"carnes-y-pescados\",\n",
        "         \"bebes-y-ninos\",\n",
        "         \"cervezas-vinos-y-licores\",\n",
        "         \"alimentos-congelados\",\n",
        "         \"panaderia-y-tortilleria\",\n",
        "         \"electronica\",\n",
        "         \"articulos-para-el-hogar\",\n",
        "         \"farmacia\",\n",
        "         \"juguetes\",\n",
        "         \"deportes\"\n",
        ")\n"
      ],
      "metadata": {
        "colab": {
          "base_uri": "https://localhost:8080/",
          "height": 34
        },
        "id": "KGUNOyA2u30f",
        "outputId": "6fba3d7e-f5b5-4cc3-ab61-62968d2b2a61"
      },
      "execution_count": null,
      "outputs": [
        {
          "output_type": "display_data",
          "data": {
            "text/html": [
              "17"
            ],
            "text/markdown": "17",
            "text/latex": "17",
            "text/plain": [
              "[1] 17"
            ]
          },
          "metadata": {}
        }
      ]
    },
    {
      "cell_type": "code",
      "source": [
        "# funcion para descargar datos de cada producto\n",
        "\n",
        "producto<- function(url,p=1,i=1){\n",
        "    \n",
        "    url <- url\n",
        "    \n",
        "    #url=\"https://www.walmart.com.ni/boquitas-milpa-real-tostadas-360gr/p\"\n",
        "    #url = \"https://www.walmart.com.ni/bicicleta-next-de-nino-12/p\"\n",
        "    #url = \"https://www.walmart.com.ni/bebida-nutri-lety-lactea-1000ml/p\"\n",
        "    \n",
        "    web <- rvest::read_html(url)\n",
        "    #codigo ----\n",
        "    css<- \".vtex-product-identifier-0-x-product-identifier__value\"\n",
        "    codigo <-html_elements(web,css) %>% html_text2()\n",
        "    \n",
        "    # producto ----\n",
        "    css=\".vtex-store-components-3-x-productBrand\"\n",
        "    producto <-html_elements(web,css) %>% html_text2()\n",
        "    \n",
        "    # precio----\n",
        "    css=\".vtex-store-components-3-x-sellingPrice\"\n",
        "    precio <- html_element(web,css) %>% html_text2()\n",
        "    precio <- gsub(\"C\\\\$\",\"\",precio) \n",
        "    precio <-gsub(\",\",\"\",precio) %>% as.numeric()\n",
        "    ###\n",
        "    css=\".vtex-store-components-3-x-listPrice\"\n",
        "    precio_promo <- html_element(web,css) %>% html_text2()\n",
        "    precio_promo <- gsub(\"C\\\\$\",\"\",precio_promo)\n",
        "    precio_promo <- gsub(\",\",\"\",precio_promo) %>% as.numeric()\n",
        "    ##imagen ----\n",
        "    selector =\".vtex-store-components-3-x-productImageTag\"\n",
        "    imagen  = html_element(web,selector) %>% html_attr(\"src\")\n",
        "    \n",
        "    # categorias ----\n",
        "    selector =\".vtex-breadcrumb-1-x-arrow--1\"\n",
        "    categoria_g  = html_elements(web,selector) %>% html_text2()\n",
        "    \n",
        "    selector =\".vtex-breadcrumb-1-x-arrow--2\"\n",
        "    categoria  = html_elements(web,selector) %>% html_text2()\n",
        "    \n",
        "    selector =\".vtex-breadcrumb-1-x-arrow--3\"\n",
        "    sub_categoria  = html_elements(web,selector) %>% html_text2()\n",
        "    \n",
        "    # descripcion ----\n",
        "    css =\".vtex-store-components-3-x-content\"\n",
        "    descripcion=html_elements(web,css)[2] %>% html_text() %>% paste0()\n",
        "\n",
        "    data.frame(\n",
        "      codigo = codigo,\n",
        "      producto = producto, \n",
        "      precio = precio,\n",
        "      precio_promocional=precio_promo,\n",
        "      grupo= categoria_g,\n",
        "      categoria=categoria,\n",
        "      subcategoria= sub_categoria,\n",
        "      descripcion=descripcion,\n",
        "      imagen=imagen,\n",
        "      url_articulo=url,\n",
        "      pagina=p,\n",
        "      articulo=i\n",
        "    )\n",
        "    \n",
        "}\n"
      ],
      "metadata": {
        "id": "3mVeFa_qiOh7"
      },
      "execution_count": null,
      "outputs": []
    },
    {
      "cell_type": "code",
      "source": [
        "# descargar los datos \n",
        "# extraemos los link de cada grupo , y calculamos la cantidad de paginas a recorrer\n",
        "# extraemos lista de link de los productos de cada pagina\n",
        "# descargamos los datos recorriendo los link de todos los productos\n",
        "# agregamos los datos al data frame de datos\n",
        "\n",
        "for (g in 1:length(grupo)){\n",
        "    try({\n",
        "      ######\n",
        "      url= paste0(url_principal,\"/\",grupo[g])\n",
        "      \n",
        "      web <- read_html(url)\n",
        "      ### cantidad de paginas\n",
        "      css =\".vtex-search-result-3-x-totalProducts--layout\"\n",
        "      paginas=html_elements(web,css)%>% html_text() \n",
        "      paginas=round(as.numeric(gsub(\"  Productos\",\"\",paginas))/10,digits = 0)+1\n",
        "      \n",
        "      paginas = 1\n",
        "      # links de cada pagina\n",
        "      for (p in 1:paginas){\n",
        "        try({\n",
        "          url <- paste0(url_principal,\"/\",grupo[g],\"?page=\",p)\n",
        "          web <- rvest::read_html(url)\n",
        "          \n",
        "          css_selector=\"a.vtex-product-summary-2-x-clearLink\"\n",
        "          links = html_nodes(web,css_selector) %>% html_attr(\"href\")\n",
        "          \n",
        "          # descarga dato producto\n",
        "          for (i in 1:length(links)) {\n",
        "            url <- paste0(url_principal,links[i])\n",
        "            # con la funcion producto\n",
        "            datos=rbind(datos,producto(url=url,p=p,i=i))\n",
        "          }\n",
        "          #Sys.sleep(1)\n",
        "        })\n",
        "      }\n",
        "    })\n",
        "}"
      ],
      "metadata": {
        "id": "xP0Hw65QxdgO"
      },
      "execution_count": null,
      "outputs": []
    },
    {
      "cell_type": "markdown",
      "source": [],
      "metadata": {
        "id": "aVaT0xWAuKQu"
      }
    },
    {
      "cell_type": "code",
      "source": [
        "# guaramos el archivo en formato excel\n",
        "options(spicen=999)\n",
        "write.xlsx(datos, \"productos_walmart_.xlsx\")\n"
      ],
      "metadata": {
        "id": "8Yd2mQ0mx54O"
      },
      "execution_count": null,
      "outputs": []
    }
  ]
}