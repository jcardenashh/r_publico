{
  "nbformat": 4,
  "nbformat_minor": 0,
  "metadata": {
    "colab": {
      "provenance": [],
      "collapsed_sections": [],
      "authorship_tag": "ABX9TyN5Ns+xv3fET1vDfApifzJy",
      "include_colab_link": true
    },
    "kernelspec": {
      "name": "ir",
      "display_name": "R"
    },
    "language_info": {
      "name": "R"
    }
  },
  "cells": [
    {
      "cell_type": "markdown",
      "metadata": {
        "id": "view-in-github",
        "colab_type": "text"
      },
      "source": [
        "<a href=\"https://colab.research.google.com/github/jcardenashh/r_publico/blob/main/Web_scraping_R.ipynb\" target=\"_parent\"><img src=\"https://colab.research.google.com/assets/colab-badge.svg\" alt=\"Open In Colab\"/></a>"
      ]
    },
    {
      "cell_type": "markdown",
      "source": [
        "# Web scraping pagina walmart nicaragua\n"
      ],
      "metadata": {
        "id": "0dWKqYqsGDG7"
      }
    },
    {
      "cell_type": "code",
      "source": [
        "\n",
        "if(!require(rvest)) install.packages(\"rvest\"); library(rvest)\n",
        "if(!require(openxlsx)) install.packages(\"openxlsx\"); library(openxlsx)"
      ],
      "metadata": {
        "id": "hP3lEf_Tzv12"
      },
      "execution_count": 5,
      "outputs": []
    },
    {
      "cell_type": "markdown",
      "source": [
        "## Datos"
      ],
      "metadata": {
        "id": "jGwLCd8puRgc"
      }
    },
    {
      "cell_type": "code",
      "execution_count": 6,
      "metadata": {
        "id": "bpZqnWjt8AH9"
      },
      "outputs": [],
      "source": [
        "rm(list=ls())\n",
        "url_principal=\"https://www.walmart.com.ni\"\n",
        "\n",
        "datos = data.frame(\n",
        "  codigo=character(),\n",
        "  producto=character(), \n",
        "  precio =double(),\n",
        "  precio_promocional= double(),\n",
        "  grupo=character(),\n",
        "  categoria=character(),\n",
        "  subcategoria=character(),\n",
        "  descripcion=character(),\n",
        "  imagen=character(),\n",
        "  url_articulo=character(),\n",
        "  pagina= double(),\n",
        "  articulo=double()\n",
        ")"
      ]
    },
    {
      "cell_type": "markdown",
      "source": [
        "## Grupos"
      ],
      "metadata": {
        "id": "YuSB5geBP1VU"
      }
    },
    {
      "cell_type": "code",
      "source": [
        "# grupos ----\n",
        "web <- read_html(url_principal)\n",
        "css = \".vtex-store-components-3-x-logoLink--iconslidecategory\"\n",
        "grupo = html_elements(web,css) %>% html_attr(\"href\") %>% unique()"
      ],
      "metadata": {
        "id": "KGUNOyA2u30f"
      },
      "execution_count": 10,
      "outputs": []
    },
    {
      "cell_type": "markdown",
      "source": [
        "## Función de descarga"
      ],
      "metadata": {
        "id": "Lr1eWtVDQpG6"
      }
    },
    {
      "cell_type": "markdown",
      "source": [],
      "metadata": {
        "id": "jRIAIyeDQp_q"
      }
    },
    {
      "cell_type": "code",
      "source": [
        "producto<- function(url,p=1,i=1){\n",
        "    # funcion para descargar los datos de cada producto\n",
        "    # retorna los datos en un data.frame\n",
        "    url <- url\n",
        "    \n",
        "    #url=\"https://www.walmart.com.ni/boquitas-milpa-real-tostadas-360gr/p\"\n",
        "    #url = \"https://www.walmart.com.ni/bicicleta-next-de-nino-12/p\"\n",
        "    #url = \"https://www.walmart.com.ni/bebida-nutri-lety-lactea-1000ml/p\"\n",
        "    \n",
        "    web <- rvest::read_html(URLencode(url))\n",
        "    #codigo ----\n",
        "    css<- \".vtex-product-identifier-0-x-product-identifier__value\"\n",
        "    codigo <-html_elements(web,css) %>% html_text2()\n",
        "    \n",
        "    # producto ----\n",
        "    css=\".vtex-store-components-3-x-productBrand\"\n",
        "    producto <-html_elements(web,css) %>% html_text2()\n",
        "    \n",
        "    # precio----\n",
        "    css=\".vtex-store-components-3-x-sellingPrice\"\n",
        "    precio <- html_element(web,css) %>% html_text2()\n",
        "    precio <- gsub(\"C\\\\$\",\"\",precio) \n",
        "    precio <-gsub(\",\",\"\",precio) %>% as.numeric()\n",
        "    ###\n",
        "    css=\".vtex-store-components-3-x-listPrice\"\n",
        "    precio_promo <- html_element(web,css) %>% html_text2()\n",
        "    precio_promo <- gsub(\"C\\\\$\",\"\",precio_promo)\n",
        "    precio_promo <- gsub(\",\",\"\",precio_promo) %>% as.numeric()\n",
        "    ##imagen ----\n",
        "    selector =\".vtex-store-components-3-x-productImageTag\"\n",
        "    imagen  = html_element(web,selector) %>% html_attr(\"src\")\n",
        "    \n",
        "    # categorias ----\n",
        "    selector =\".vtex-breadcrumb-1-x-arrow--1\"\n",
        "    categoria_g  = html_elements(web,selector) %>% html_text2()\n",
        "    \n",
        "    selector =\".vtex-breadcrumb-1-x-arrow--2\"\n",
        "    categoria  = html_elements(web,selector) %>% html_text2()\n",
        "    \n",
        "    selector =\".vtex-breadcrumb-1-x-arrow--3\"\n",
        "    sub_categoria  = html_elements(web,selector) %>% html_text2()\n",
        "    \n",
        "    # descripcion ----\n",
        "    css =\".vtex-store-components-3-x-content\"\n",
        "    descripcion=html_elements(web,css)[2] %>% html_text() %>% paste0()\n",
        "\n",
        "    data.frame(\n",
        "      codigo = codigo,\n",
        "     producto = producto, \n",
        "     precio = precio,\n",
        "     precio_promocional=precio_promo,\n",
        "     grupo= categoria_g,\n",
        "     categoria=categoria,\n",
        "     subcategoria= sub_categoria,\n",
        "     descripcion=descripcion,\n",
        "     imagen=imagen,\n",
        "     url_articulo=url,\n",
        "     pagina=p,\n",
        "     articulo=i\n",
        "    )\n",
        "    \n",
        "}"
      ],
      "metadata": {
        "id": "3mVeFa_qiOh7"
      },
      "execution_count": null,
      "outputs": []
    },
    {
      "cell_type": "markdown",
      "source": [
        "## Bucle descarga"
      ],
      "metadata": {
        "id": "GOqGfiAdQumz"
      }
    },
    {
      "cell_type": "code",
      "source": [
        "  for (g in 1:length(grupo)){\n",
        "    # descargar los datos \n",
        "    # extraemos los link de cada grupo , y calculamos la cantidad de paginas a recorrer\n",
        "    # extraemos lista de link de los productos de cada pagina\n",
        "    # descargamos los datos recorriendo los link de todos los productos\n",
        "    # agregamos los datos al data frame de datos\n",
        "    \n",
        "    \n",
        "    try({\n",
        "      ######\n",
        "      url= paste0(url_principal,\"/\",grupo[g])\n",
        "      \n",
        "      web <- read_html(URLencode(url))\n",
        "      ### cantidad de paginas\n",
        "      css =\".vtex-search-result-3-x-totalProducts--layout\"\n",
        "      paginas=html_elements(web,css)%>% html_text() \n",
        "      paginas=round(as.numeric(gsub(\"  Productos\",\"\",paginas))/10,digits = 0)+1\n",
        "      \n",
        "      \n",
        "      # links de cada pagina\n",
        "      for (p in 1:paginas){\n",
        "        try({\n",
        "          url <- paste0(url_principal,\"/\",grupo[g],\"?page=\",p)\n",
        "          web <- rvest::read_html(URLencode(url))\n",
        "          \n",
        "          css_selector=\"a.vtex-product-summary-2-x-clearLink\"\n",
        "          links = html_nodes(web,css_selector) %>% html_attr(\"href\")\n",
        "          \n",
        "          # descarga dato producto\n",
        "          for (i in 1:length(links)) {\n",
        "            url <- paste0(url_principal,links[i])\n",
        "            # con la funcion producto\n",
        "            datos=rbind(datos,producto(url=url,p=p,i=i))\n",
        "          }\n",
        "          #Sys.sleep(1)\n",
        "        })\n",
        "      }\n",
        "    })\n",
        "}"
      ],
      "metadata": {
        "id": "xP0Hw65QxdgO"
      },
      "execution_count": null,
      "outputs": []
    },
    {
      "cell_type": "markdown",
      "source": [
        "## Guardar archivo"
      ],
      "metadata": {
        "id": "aVaT0xWAuKQu"
      }
    },
    {
      "cell_type": "code",
      "source": [
        "# guaramos el archivo en formato excel\n",
        "options(spicen=999)\n",
        "write.xlsx(datos, \"productos_walmart_.xlsx\")\n"
      ],
      "metadata": {
        "id": "8Yd2mQ0mx54O"
      },
      "execution_count": 9,
      "outputs": []
    }
  ]
}